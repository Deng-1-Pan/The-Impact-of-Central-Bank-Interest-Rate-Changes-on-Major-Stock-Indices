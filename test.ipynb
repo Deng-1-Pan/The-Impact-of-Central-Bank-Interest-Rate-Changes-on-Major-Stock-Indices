{
 "cells": [
  {
   "cell_type": "code",
   "execution_count": 1,
   "metadata": {},
   "outputs": [],
   "source": [
    "import pandas as pd\n",
    "import numpy as np\n",
    "import statsmodels.api as sm\n"
   ]
  },
  {
   "cell_type": "markdown",
   "metadata": {},
   "source": [
    "### Read Data"
   ]
  },
  {
   "cell_type": "code",
   "execution_count": 2,
   "metadata": {},
   "outputs": [],
   "source": [
    "bank_rate = pd.read_csv('./Data/BoE-Database_export.csv')\n",
    "fed_funds = pd.read_csv('./Data/FEDFUNDS.csv')\n",
    "ftse100 = pd.read_csv('./Data/FTSE 100 Historical Price Data.csv')\n",
    "sp500 = pd.read_csv('./Data/S&P 500 Historical Price Data.csv')\n",
    "us_inflation = pd.read_csv('./Data/US Inflation RAte.csv')\n",
    "uk_inflation = pd.read_csv('./Data/series-290524.csv')"
   ]
  },
  {
   "cell_type": "code",
   "execution_count": 3,
   "metadata": {},
   "outputs": [
    {
     "name": "stderr",
     "output_type": "stream",
     "text": [
      "/var/folders/tl/gr7ky_ln79195ycwht64zv_r0000gn/T/ipykernel_10215/1995424870.py:3: UserWarning: Parsing dates in %d/%m/%Y format when dayfirst=False (the default) was specified. Pass `dayfirst=True` or specify a format to silence this warning.\n",
      "  ftse100['Date'] = pd.to_datetime(ftse100['Date'])\n",
      "/var/folders/tl/gr7ky_ln79195ycwht64zv_r0000gn/T/ipykernel_10215/1995424870.py:4: UserWarning: Parsing dates in %d/%m/%Y format when dayfirst=False (the default) was specified. Pass `dayfirst=True` or specify a format to silence this warning.\n",
      "  sp500['Date'] = pd.to_datetime(sp500['Date'])\n"
     ]
    }
   ],
   "source": [
    "bank_rate['Date'] = pd.to_datetime(bank_rate['Date'], format='%d-%m-%Y')\n",
    "fed_funds['observation_date'] = pd.to_datetime(fed_funds['observation_date'])\n",
    "ftse100['Date'] = pd.to_datetime(ftse100['Date'])\n",
    "sp500['Date'] = pd.to_datetime(sp500['Date'])\n",
    "us_inflation['Date'] = pd.to_datetime(us_inflation['Date'], format='%b-%y')\n",
    "uk_inflation['Date'] = pd.to_datetime(uk_inflation['Date'], format='%b-%y')\n",
    "\n"
   ]
  },
  {
   "cell_type": "markdown",
   "metadata": {},
   "source": [
    "### Merge Data"
   ]
  },
  {
   "cell_type": "code",
   "execution_count": 4,
   "metadata": {},
   "outputs": [],
   "source": [
    "# Convert all to monthly data if necessary, using the average or last value\n",
    "sp500 = sp500.set_index('Date').resample('M').last()\n",
    "fed_funds = fed_funds.set_index('observation_date').resample('M').last()\n",
    "us_inflation = us_inflation.set_index('Date').resample('M').last()\n",
    "\n",
    "# Merge datasets on the date index\n",
    "df = pd.concat([sp500[['Price']], fed_funds['FEDFUNDS'], us_inflation['Inflation Rates']], axis=1)\n",
    "df.columns = ['SP500_Price', 'FEDFUNDS', 'US_Inflation']\n"
   ]
  },
  {
   "cell_type": "markdown",
   "metadata": {},
   "source": [
    "### Data Cleaning"
   ]
  },
  {
   "cell_type": "code",
   "execution_count": 5,
   "metadata": {},
   "outputs": [],
   "source": [
    "df['SP500_Price'] = df['SP500_Price'].replace('[\\$,]', '', regex=True)\n",
    "df['SP500_Price'] = pd.to_numeric(df['SP500_Price'], errors='coerce')\n",
    "df.dropna(inplace=True)\n",
    "\n"
   ]
  },
  {
   "cell_type": "markdown",
   "metadata": {},
   "source": [
    "### Regression Analysis"
   ]
  },
  {
   "cell_type": "code",
   "execution_count": 6,
   "metadata": {},
   "outputs": [],
   "source": [
    "X = df[['FEDFUNDS', 'US_Inflation']] # \n",
    "X = sm.add_constant(X)  # Adds a constant term to the predictor\n",
    "y = df['SP500_Price']"
   ]
  },
  {
   "cell_type": "code",
   "execution_count": 7,
   "metadata": {},
   "outputs": [
    {
     "name": "stdout",
     "output_type": "stream",
     "text": [
      "                            OLS Regression Results                            \n",
      "==============================================================================\n",
      "Dep. Variable:            SP500_Price   R-squared:                       0.465\n",
      "Model:                            OLS   Adj. R-squared:                  0.451\n",
      "Method:                 Least Squares   F-statistic:                     35.13\n",
      "Date:                Fri, 31 May 2024   Prob (F-statistic):           1.03e-11\n",
      "Time:                        10:02:35   Log-Likelihood:                -649.78\n",
      "No. Observations:                  84   AIC:                             1306.\n",
      "Df Residuals:                      81   BIC:                             1313.\n",
      "Df Model:                           2                                         \n",
      "Covariance Type:            nonrobust                                         \n",
      "================================================================================\n",
      "                   coef    std err          t      P>|t|      [0.025      0.975]\n",
      "--------------------------------------------------------------------------------\n",
      "const         2576.2526    124.063     20.766      0.000    2329.406    2823.100\n",
      "FEDFUNDS        75.7494     37.744      2.007      0.048       0.650     150.849\n",
      "US_Inflation   207.7568     26.221      7.923      0.000     155.585     259.929\n",
      "==============================================================================\n",
      "Omnibus:                       35.821   Durbin-Watson:                   0.122\n",
      "Prob(Omnibus):                  0.000   Jarque-Bera (JB):                6.927\n",
      "Skew:                           0.311   Prob(JB):                       0.0313\n",
      "Kurtosis:                       1.738   Cond. No.                         9.50\n",
      "==============================================================================\n",
      "\n",
      "Notes:\n",
      "[1] Standard Errors assume that the covariance matrix of the errors is correctly specified.\n"
     ]
    }
   ],
   "source": [
    "model = sm.OLS(y, X).fit()\n",
    "print(model.summary())"
   ]
  }
 ],
 "metadata": {
  "kernelspec": {
   "display_name": "amls",
   "language": "python",
   "name": "python3"
  },
  "language_info": {
   "codemirror_mode": {
    "name": "ipython",
    "version": 3
   },
   "file_extension": ".py",
   "mimetype": "text/x-python",
   "name": "python",
   "nbconvert_exporter": "python",
   "pygments_lexer": "ipython3",
   "version": "3.8.16"
  }
 },
 "nbformat": 4,
 "nbformat_minor": 2
}
