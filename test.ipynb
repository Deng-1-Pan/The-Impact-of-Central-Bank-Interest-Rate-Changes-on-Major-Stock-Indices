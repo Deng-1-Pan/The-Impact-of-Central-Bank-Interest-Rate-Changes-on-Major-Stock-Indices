{
 "cells": [
  {
   "cell_type": "code",
   "execution_count": 1,
   "metadata": {},
   "outputs": [],
   "source": [
    "import pandas as pd\n",
    "import matplotlib.pyplot as plt\n",
    "import statsmodels.api as sm\n",
    "import numpy as np\n",
    "# Using pip install to install those package\n"
   ]
  },
  {
   "cell_type": "code",
   "execution_count": 2,
   "metadata": {},
   "outputs": [],
   "source": [
    "# Interest Rate\n",
    "fed_funds = pd.read_csv('./Data/US/FEDFUNDS.csv')\n",
    "# Indices Data\n",
    "sp500 = pd.read_csv('./Data/US/S&P 500 Historical Price Data.csv')\n",
    "# Inflation Data\n",
    "us_inflation = pd.read_csv('./Data/US/US Inflation Rate.csv')\n",
    "# GDP Growth Rate\n",
    "us_gdp = pd.read_csv('./Data/US/USGDP.csv')\n",
    "# CCI Data\n",
    "us_cci = pd.read_csv('./Data/US/US CCI.csv')"
   ]
  },
  {
   "cell_type": "code",
   "execution_count": 3,
   "metadata": {},
   "outputs": [],
   "source": [
    "fed_funds['observation_date'] = pd.to_datetime(fed_funds['observation_date'], format='%d/%m/%Y')\n",
    "\n",
    "us_inflation['Date'] = pd.to_datetime(us_inflation['Date'], format='%b-%y')\n",
    "\n",
    "sp500['Date'] = pd.to_datetime(sp500['Date'])\n",
    "\n",
    "us_gdp['Date'] = pd.to_datetime(us_gdp['Date'], format='%d/%m/%Y')\n",
    "\n",
    "us_cci['Release Date'] = pd.to_datetime(us_cci['Release Date'], format='%d/%m/%Y')\n"
   ]
  },
  {
   "cell_type": "code",
   "execution_count": 4,
   "metadata": {},
   "outputs": [],
   "source": [
    "# Convert all to monthly data, using the average or last value\n",
    "sp500 = sp500.set_index('Date').resample('M').last()\n",
    "fed_funds = fed_funds.set_index('observation_date').resample('M').last()\n",
    "us_inflation = us_inflation.set_index('Date').resample('M').last()\n",
    "us_gdp = us_gdp.set_index('Date').resample('M').last()\n",
    "us_cci = us_cci.set_index('Release Date').resample('M').last()\n"
   ]
  },
  {
   "cell_type": "code",
   "execution_count": 5,
   "metadata": {},
   "outputs": [],
   "source": [
    "# Merge datasets on the date index\n",
    "df = pd.concat([sp500[['Price']], fed_funds['FEDFUNDS'], us_inflation['Inflation'], us_gdp['GDP growth'], us_cci['CCI Rate']], axis=1)\n",
    "df.columns = ['SP500_Price', 'FEDFUNDS', 'US_Inflation', 'GDP_growth', 'CCI_Rate']\n",
    "\n",
    "data = pd.concat([sp500[['Price']], fed_funds['FEDFUNDS'], us_inflation['Inflation'], us_gdp['GDP growth'], us_cci['CCI Rate']], axis=1)\n",
    "data.columns = ['SP500_Price', 'FEDFUNDS', 'US_Inflation', 'GDP_growth', 'CCI_Rate']\n",
    "\n",
    "df['SP500_Price'] = df['SP500_Price'].replace('[\\$,]', '', regex=True)\n",
    "df['SP500_Price'] = pd.to_numeric(df['SP500_Price'], errors='coerce')\n",
    "\n",
    "data['SP500_Price'] = data['SP500_Price'].replace('[\\$,]', '', regex=True)\n",
    "data['SP500_Price'] = pd.to_numeric(data['SP500_Price'], errors='coerce')"
   ]
  },
  {
   "cell_type": "code",
   "execution_count": 6,
   "metadata": {},
   "outputs": [],
   "source": [
    "from sklearn.preprocessing import MinMaxScaler\n",
    "\n",
    "# Nomarlise the data\n",
    "scaler = MinMaxScaler()\n",
    "df['FEDFUNDS_adj'] = scaler.fit_transform(df[['FEDFUNDS']])\n",
    "df['SP500_Price_adj'] = scaler.fit_transform(df[['SP500_Price']])\n",
    "df['US_Inflation_adj'] = scaler.fit_transform(df[['US_Inflation']])\n",
    "df['GDP_growth_adj'] = scaler.fit_transform(df[['GDP_growth']])\n",
    "df['CCI_Rate_adj'] = scaler.fit_transform(df[['CCI_Rate']])\n",
    "\n",
    "data['FEDFUNDS_adj'] = scaler.fit_transform(data[['FEDFUNDS']])\n",
    "data['SP500_Price_adj'] = scaler.fit_transform(data[['SP500_Price']])\n",
    "data['US_Inflation_adj'] = scaler.fit_transform(data[['US_Inflation']])\n",
    "data['GDP_growth_adj'] = scaler.fit_transform(data[['GDP_growth']])\n",
    "data['CCI_Rate_adj'] = scaler.fit_transform(data[['CCI_Rate']])\n",
    "\n",
    "\n",
    "df.dropna(inplace=True)"
   ]
  },
  {
   "cell_type": "code",
   "execution_count": 16,
   "metadata": {},
   "outputs": [
    {
     "name": "stdout",
     "output_type": "stream",
     "text": [
      "Best R-squared: 0.936563211338363\n",
      "Best Lags: FEDFUNDS_lag=12, US_Inflation_lag=-6, CCI_Rate_lag=-6, GDP_Growth_lag=8\n"
     ]
    }
   ],
   "source": [
    "from sklearn.preprocessing import MinMaxScaler\n",
    "\n",
    "# Define the range of lags for each variable\n",
    "lag_ranges = {\n",
    "    'FEDFUNDS': range(1, 13),\n",
    "    'US_Inflation': range(-6, 13),\n",
    "    'CCI_Rate': range(-6, 13),\n",
    "    'GDP_Growth': range(-6, 13)\n",
    "}\n",
    "\n",
    "def fill_missing_with_sampling(df, column, lag, date_range):\n",
    "    if lag < 0:\n",
    "        fill_dates = pd.date_range(start=date_range[1] + pd.DateOffset(months=1), periods=-lag, freq='M')\n",
    "        \n",
    "        # Fetch fill values and adjust them using the same scaler\n",
    "        fill_values = data.loc[fill_dates, column].values\n",
    "\n",
    "        # Combine original and scaled fill values\n",
    "        filled_series = df[column].shift(lag)\n",
    "        \n",
    "        filled_series[lag:] = fill_values\n",
    "    \n",
    "    elif lag > 0:\n",
    "        fill_dates = pd.date_range(end=date_range[0] - pd.DateOffset(months=1), periods=lag, freq='M')\n",
    "        \n",
    "                # Fetch fill values and adjust them using the same scaler\n",
    "        fill_values = data.loc[fill_dates, column].values\n",
    "\n",
    "        # Combine original and scaled fill values\n",
    "        filled_series = df[column].shift(lag)\n",
    "        \n",
    "        filled_series[:lag] = fill_values\n",
    "    else:\n",
    "        return df[column]\n",
    "    \n",
    "    return filled_series\n",
    "\n",
    "# Initialize variables to keep track of the best model\n",
    "best_r_squared = -np.inf\n",
    "best_model = None\n",
    "best_lags = None\n",
    "\n",
    "date_range = [pd.to_datetime('31/01/2015', format='%d/%m/%Y'), pd.to_datetime('31/12/2021', format='%d/%m/%Y')]\n",
    "\n",
    "# Iterate over all combinations of lags\n",
    "for f_lag in lag_ranges['FEDFUNDS']:\n",
    "    for i_lag in lag_ranges['US_Inflation']:\n",
    "        for c_lag in lag_ranges['CCI_Rate']:\n",
    "            for g_lag in lag_ranges['GDP_Growth']:\n",
    "                # Create lagged DataFrame using fill_missing_with_sampling\n",
    "                df_lagged = pd.DataFrame({\n",
    "                    'FEDFUNDS_lag': fill_missing_with_sampling(df, 'FEDFUNDS_adj', f_lag, date_range),\n",
    "                    'US_Inflation_lag': fill_missing_with_sampling(df, 'US_Inflation_adj', i_lag, date_range),\n",
    "                    'CCI_Rate_lag': fill_missing_with_sampling(df, 'CCI_Rate_adj', c_lag, date_range),\n",
    "                    'GDP_Growth_lag': fill_missing_with_sampling(df, 'GDP_growth_adj', g_lag, date_range),\n",
    "                    'SP500_Price_adj': df['SP500_Price_adj']\n",
    "                })\n",
    "\n",
    "                # Define predictors and response\n",
    "                X = df_lagged[['FEDFUNDS_lag', 'US_Inflation_lag', 'CCI_Rate_lag', 'GDP_Growth_lag']]\n",
    "                y = df_lagged['SP500_Price_adj']\n",
    "                X = sm.add_constant(X)  # Adds a constant term to the predictors\n",
    "\n",
    "                # Fit model\n",
    "                model = sm.OLS(y, X).fit()\n",
    "\n",
    "                # Check if this model is the best so far\n",
    "                if model.rsquared > best_r_squared:\n",
    "                    best_r_squared = model.rsquared\n",
    "                    best_model = model\n",
    "                    best_lags = (f_lag, i_lag, c_lag, g_lag)\n",
    "\n",
    "# Output the best model results\n",
    "print(\"Best R-squared:\", best_r_squared)\n",
    "print(\"Best Lags: FEDFUNDS_lag={}, US_Inflation_lag={}, CCI_Rate_lag={}, GDP_Growth_lag={}\".format(*best_lags))\n",
    "with open('./Results/lags/US/regression_summary_bestfit.txt', 'w') as file:\n",
    "    file.write(best_model.summary().as_text())"
   ]
  },
  {
   "cell_type": "markdown",
   "metadata": {},
   "source": [
    "#### Laggin Effect"
   ]
  },
  {
   "cell_type": "markdown",
   "metadata": {},
   "source": [
    "#### Laggin Effect"
   ]
  },
  {
   "cell_type": "markdown",
   "metadata": {},
   "source": [
    "#### Laggin Effect"
   ]
  },
  {
   "cell_type": "markdown",
   "metadata": {},
   "source": [
    "#### Laggin Effect"
   ]
  }
 ],
 "metadata": {
  "language_info": {
   "name": "python"
  }
 },
 "nbformat": 4,
 "nbformat_minor": 2
}
