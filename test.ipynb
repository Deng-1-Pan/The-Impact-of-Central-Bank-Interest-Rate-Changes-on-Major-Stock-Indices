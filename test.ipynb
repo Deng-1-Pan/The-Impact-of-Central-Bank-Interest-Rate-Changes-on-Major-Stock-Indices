{
 "cells": [
  {
   "cell_type": "code",
   "execution_count": null,
   "metadata": {},
   "outputs": [],
   "source": [
    "import pandas as pd\n",
    "import matplotlib.pyplot as plt\n",
    "import statsmodels.api as sm\n",
    "# Using pip install to install those package\n"
   ]
  },
  {
   "cell_type": "markdown",
   "metadata": {},
   "source": [
    "# US"
   ]
  },
  {
   "cell_type": "markdown",
   "metadata": {},
   "source": [
    "### Read Data"
   ]
  },
  {
   "cell_type": "code",
   "execution_count": null,
   "metadata": {},
   "outputs": [],
   "source": [
    "# Interest Rate\n",
    "fed_funds = pd.read_csv('./Data/US/FEDFUNDS.csv')\n",
    "# Indices Data\n",
    "sp500 = pd.read_csv('./Data/US/S&P 500 Historical Price Data.csv')\n",
    "# Inflation Data\n",
    "us_inflation = pd.read_csv('./Data/US/US Inflation Rate.csv')\n",
    "# GDP Growth Rate\n",
    "us_gdp = pd.read_csv('./Data/US/USGDP.csv')\n",
    "# CCI Data\n",
    "us_cci = pd.read_csv('./Data/US/US CCI.csv')"
   ]
  },
  {
   "cell_type": "code",
   "execution_count": null,
   "metadata": {},
   "outputs": [],
   "source": [
    "fed_funds['observation_date'] = pd.to_datetime(fed_funds['observation_date'], format='%Y-%m-%d')\n",
    "\n",
    "us_inflation['Date'] = pd.to_datetime(us_inflation['Date'], format='%b-%y')\n",
    "\n",
    "sp500['Date'] = pd.to_datetime(sp500['Date'])\n",
    "\n",
    "def convert_year_to_date(year):\n",
    "    return pd.to_datetime(f\"{year}-01-01\")\n",
    "\n",
    "us_gdp['Date'] = us_gdp['Date'].apply(convert_year_to_date)\n",
    "us_gdp['Date'] = pd.to_datetime(us_gdp['Date'])\n",
    "\n",
    "us_cci['Release Date'] = pd.to_datetime(us_cci['Release Date'], format='%d/%m/%Y')\n"
   ]
  },
  {
   "cell_type": "markdown",
   "metadata": {},
   "source": [
    "### Merge Data"
   ]
  },
  {
   "cell_type": "code",
   "execution_count": null,
   "metadata": {},
   "outputs": [],
   "source": [
    "# Convert all to monthly data, using the average or last value\n",
    "sp500 = sp500.set_index('Date').resample('M').last()\n",
    "fed_funds = fed_funds.set_index('observation_date').resample('M').last()\n",
    "us_inflation = us_inflation.set_index('Date').resample('M').last()\n",
    "us_gdp = us_gdp.set_index('Date').resample('M').last()\n",
    "us_cci = us_cci.set_index('Release Date').resample('M').last()"
   ]
  },
  {
   "cell_type": "code",
   "execution_count": null,
   "metadata": {},
   "outputs": [],
   "source": [
    "# 提取年份\n",
    "years = us_gdp.index.year\n",
    "\n",
    "# 用1月份的数据填充NaN\n",
    "for year in set(years):\n",
    "    january_value = us_gdp.loc[(us_gdp.index.year == year) & (us_gdp.index.month == 1), 'GDP growth'].values[0]\n",
    "    us_gdp.loc[us_gdp.index.year == year, 'GDP growth'] = us_gdp.loc[us_gdp.index.year == year, 'GDP growth'].fillna(january_value)\n",
    "    \n",
    "# 提取年份\n",
    "years = us_cci.index.year\n",
    "\n",
    "# 用1月份的数据填充NaN\n",
    "for year in set(years):\n",
    "    january_value = us_cci.loc[(us_cci.index.year == year) & (us_cci.index.month == 1), 'CCI Rate'].values[0]\n",
    "    us_cci.loc[us_cci.index.year == year, 'CCI Rate'] = us_cci.loc[us_cci.index.year == year, 'CCI Rate'].fillna(january_value)"
   ]
  },
  {
   "cell_type": "code",
   "execution_count": null,
   "metadata": {},
   "outputs": [],
   "source": [
    "# Merge datasets on the date index\n",
    "df = pd.concat([sp500[['Price']], fed_funds['FEDFUNDS'], us_inflation['Inflation'], us_gdp['GDP growth'], us_cci['CCI Rate']], axis=1)\n",
    "df.columns = ['SP500_Price', 'FEDFUNDS', 'US_Inflation', 'GDP growth', 'CCI Rate']\n"
   ]
  },
  {
   "cell_type": "markdown",
   "metadata": {},
   "source": [
    "### Data Cleaning"
   ]
  },
  {
   "cell_type": "code",
   "execution_count": null,
   "metadata": {},
   "outputs": [],
   "source": [
    "# Conver data from Object type to float type\n",
    "df['SP500_Price'] = df['SP500_Price'].replace('[\\$,]', '', regex=True)\n",
    "df['SP500_Price'] = pd.to_numeric(df['SP500_Price'], errors='coerce')\n",
    "df.dropna(inplace=True)\n"
   ]
  },
  {
   "cell_type": "code",
   "execution_count": null,
   "metadata": {},
   "outputs": [],
   "source": [
    "def plot_and_save(x, y1, y2, y1_label, y2_label, y1_color, y2_color, filename):\n",
    "    fig, ax = plt.subplots(figsize=(10, 6))\n",
    "    ax.plot(x, y1, color=y1_color, label=y1_label)\n",
    "    ax.set_ylabel(y1_label, color=y1_color)\n",
    "    ax.tick_params(axis='y', labelcolor=y1_color)\n",
    "    \n",
    "    ax2 = ax.twinx()\n",
    "    ax2.plot(x, y2, color=y2_color, label=y2_label)\n",
    "    ax2.set_ylabel(y2_label, color=y2_color)\n",
    "    ax2.tick_params(axis='y', labelcolor=y2_color)\n",
    "    ax.grid(True)\n",
    "    \n",
    "    ax.set_xlabel('Date')\n",
    "    \n",
    "    plt.title(f'{y1_label} and {y2_label} Over Time')\n",
    "    fig.tight_layout()\n",
    "    plt.savefig('./fig/Bare Eye Analysis/US/' + filename)\n",
    "    plt.close(fig)\n",
    "\n",
    "# SP500_Price 和 FEDFUNDS\n",
    "plot_and_save(df.index, df['SP500_Price'], df['FEDFUNDS'], 'SP500 Price', 'Fed Funds Rate', 'b', 'g', 'sp500_fedfunds.png')\n",
    "\n",
    "# SP500_Price 和 US_Inflation\n",
    "plot_and_save(df.index, df['SP500_Price'], df['US_Inflation'], 'SP500 Price', 'US Inflation Rate', 'b', 'r', 'sp500_inflation.png')\n",
    "\n",
    "# SP500_Price 和 GDP growth\n",
    "plot_and_save(df.index, df['SP500_Price'], df['GDP growth'], 'SP500 Price', 'GDP Growth', 'b', 'c', 'sp500_gdp.png')\n",
    "\n",
    "# SP500_Price 和 CCI Rate\n",
    "plot_and_save(df.index, df['SP500_Price'], df['CCI Rate'], 'SP500 Price', 'CCI Rate', 'b', 'm', 'sp500_cci.png')\n"
   ]
  },
  {
   "cell_type": "code",
   "execution_count": null,
   "metadata": {},
   "outputs": [],
   "source": [
    "from sklearn.preprocessing import MinMaxScaler\n",
    "\n",
    "# Nomarlise the data\n",
    "scaler = MinMaxScaler()\n",
    "df['FEDFUNDS_adj'] = scaler.fit_transform(df[['FEDFUNDS']])\n",
    "df['SP500_Price_adj'] = scaler.fit_transform(df[['SP500_Price']])\n",
    "df['US_Inflation_adj'] = scaler.fit_transform(df[['US_Inflation']])\n",
    "df['GDP_growth_adj'] = scaler.fit_transform(df[['GDP growth']])\n",
    "df['CCI_Rate_adj'] = scaler.fit_transform(df[['CCI Rate']])"
   ]
  },
  {
   "cell_type": "markdown",
   "metadata": {},
   "source": [
    "### Regression Analysis"
   ]
  },
  {
   "cell_type": "markdown",
   "metadata": {},
   "source": [
    "#### Laggin Effect"
   ]
  },
  {
   "cell_type": "code",
   "execution_count": null,
   "metadata": {},
   "outputs": [],
   "source": [
    "# Creating lagged variables\n",
    "df['FEDFUNDS_lag1'] = df['FEDFUNDS_adj'].shift(3)  # 1-month lag\n",
    "df['FEDFUNDS_lag6'] = df['FEDFUNDS_adj'].shift(6)  # 6-months lag\n",
    "df['FEDFUNDS_lag12'] = df['FEDFUNDS_adj'].shift(12)  # 12-months lag\n",
    "\n",
    "df['US_Inflation_lag-1'] = df['US_Inflation_adj'].shift(-1)  # -1-month lag\n",
    "\n",
    "df['CCI_Rate_lag6'] = df['CCI_Rate_adj'].shift(6)  # 6-months lag\n",
    "\n",
    "df['GDP_Growth_lag12'] = df['GDP_growth_adj'].shift(12)  # 12-months lag"
   ]
  },
  {
   "cell_type": "markdown",
   "metadata": {},
   "source": [
    "#### Regression"
   ]
  },
  {
   "cell_type": "code",
   "execution_count": null,
   "metadata": {},
   "outputs": [],
   "source": [
    "X = df[['FEDFUNDS_adj', 'US_Inflation_adj', 'GDP_growth_adj', 'CCI_Rate_adj']]\n",
    "X = sm.add_constant(X)  # Adds a constant term to the predictor\n",
    "y = df['SP500_Price_adj']\n",
    "\n",
    "X.dropna(inplace=True)\n",
    "y = y.loc[X.index]\n",
    "\n",
    "model = sm.OLS(y, X).fit()\n",
    "print(model.summary())\n",
    "\n",
    "# Plot partial regression plots\n",
    "fig = plt.figure(figsize=(12, 8))\n",
    "fig = sm.graphics.plot_partregress_grid(model, fig=fig)\n",
    "\n",
    "with open('./Results/regression_summary_' + 'FEDFUNDS, US_Inflation, GDP growth, CCI Rate' + '.txt', 'w') as file:\n",
    "    file.write(model.summary().as_text())"
   ]
  },
  {
   "cell_type": "code",
   "execution_count": null,
   "metadata": {},
   "outputs": [],
   "source": [
    "for x in ['FEDFUNDS_lag1', 'FEDFUNDS_lag6', 'FEDFUNDS_lag12']:\n",
    "    X = df[[x, 'US_Inflation_lag-1', 'CCI_Rate_lag6', 'GDP_Growth_lag12']]\n",
    "    X = sm.add_constant(X)  # Adds a constant term to the predictor\n",
    "    y = df['SP500_Price_adj']\n",
    "    \n",
    "    X.dropna(inplace=True)\n",
    "    y = y.loc[X.index]\n",
    "    \n",
    "    model = sm.OLS(y, X).fit()\n",
    "    \n",
    "    # Plot partial regression plots\n",
    "    fig = plt.figure(figsize=(12, 8))\n",
    "    fig = sm.graphics.plot_partregress_grid(model, fig=fig)\n",
    "    \n",
    "    fig.savefig('./fig/lags/US/graph_' + x + '.png')\n",
    "    \n",
    "    with open('./Results/lags/US/regression_summary_' + x + '_lags.txt', 'w') as file:\n",
    "        file.write(model.summary().as_text())"
   ]
  },
  {
   "cell_type": "markdown",
   "metadata": {},
   "source": [
    "# UK"
   ]
  },
  {
   "cell_type": "markdown",
   "metadata": {},
   "source": [
    "### Read Data"
   ]
  },
  {
   "cell_type": "code",
   "execution_count": null,
   "metadata": {},
   "outputs": [],
   "source": [
    "# Interest Rate\n",
    "bank_rate = pd.read_csv('./Data/UK/BoE-Database_export.csv')\n",
    "# Indices Data\n",
    "ftse100 = pd.read_csv('./Data/UK/FTSE 100 Historical Price Data.csv')\n",
    "# Inflation Data\n",
    "uk_inflation = pd.read_csv('./Data/UK/UK Infation Rate.csv')\n",
    "# GDP Growth Rate\n",
    "uk_gdp = pd.read_csv('./Data/UK/UKGDP.csv')\n",
    "# CCI Data\n",
    "uk_cci = pd.read_csv('./Data/UK/UK CCI.csv')"
   ]
  },
  {
   "cell_type": "code",
   "execution_count": null,
   "metadata": {},
   "outputs": [],
   "source": [
    "bank_rate['Date'] = pd.to_datetime(bank_rate['Date'], format='%d/%m/%Y')\n",
    "\n",
    "uk_inflation['Date'] = pd.to_datetime(uk_inflation['Date'], format='%b-%y')\n",
    "\n",
    "ftse100['Date'] = pd.to_datetime(ftse100['Date'], format='%m/%d/%Y')\n",
    "\n",
    "def convert_year_to_date(year):\n",
    "    return pd.to_datetime(f\"{year}-01-01\")\n",
    "\n",
    "uk_gdp['Date'] = uk_gdp['Date'].apply(convert_year_to_date)\n",
    "uk_gdp['Date'] = pd.to_datetime(uk_gdp['Date'])\n",
    "\n",
    "uk_cci['Date'] = pd.to_datetime(uk_cci['Date'], format='%d/%m/%Y')\n"
   ]
  },
  {
   "cell_type": "markdown",
   "metadata": {},
   "source": [
    "### Merge Data"
   ]
  },
  {
   "cell_type": "code",
   "execution_count": null,
   "metadata": {},
   "outputs": [],
   "source": [
    "# Convert all to monthly data, using the average or last value\n",
    "ftse100 = ftse100.set_index('Date').resample('M').last()\n",
    "bank_rate = bank_rate.set_index('Date').resample('M').last()\n",
    "uk_inflation = uk_inflation.set_index('Date').resample('M').last()\n",
    "uk_gdp = uk_gdp.set_index('Date').resample('M').last()\n",
    "uk_cci = uk_cci.set_index('Date').resample('M').last()"
   ]
  },
  {
   "cell_type": "code",
   "execution_count": null,
   "metadata": {},
   "outputs": [],
   "source": [
    "# 提取年份\n",
    "years = uk_gdp.index.year\n",
    "\n",
    "# 用1月份的数据填充NaN\n",
    "for year in set(years):\n",
    "    january_value = uk_gdp.loc[(uk_gdp.index.year == year) & (uk_gdp.index.month == 1), 'GDP growth'].values[0]\n",
    "    uk_gdp.loc[uk_gdp.index.year == year, 'GDP growth'] = uk_gdp.loc[uk_gdp.index.year == year, 'GDP growth'].fillna(january_value)\n",
    "    \n",
    "# 提取年份\n",
    "years = uk_cci.index.year\n",
    "\n",
    "# 用1月份的数据填充NaN\n",
    "for year in set(years):\n",
    "    january_value = uk_cci.loc[(uk_cci.index.year == year) & (uk_cci.index.month == 1), 'CCI Rate'].values[0]\n",
    "    uk_cci.loc[uk_cci.index.year == year, 'CCI Rate'] = uk_cci.loc[uk_cci.index.year == year, 'CCI Rate'].fillna(january_value)"
   ]
  },
  {
   "cell_type": "code",
   "execution_count": null,
   "metadata": {},
   "outputs": [],
   "source": [
    "# Merge datasets on the date index\n",
    "df = pd.concat([ftse100[['Price']], bank_rate['Bank Rate'], uk_inflation['Inflation'], uk_gdp['GDP growth'], uk_cci['CCI Rate']], axis=1)\n",
    "df.columns = ['FTSE100_Price', 'Bank_Rate', 'UK_Inflation', 'GDP_growth', 'CCI_Rate']\n"
   ]
  },
  {
   "cell_type": "markdown",
   "metadata": {},
   "source": [
    "### Data Cleaning"
   ]
  },
  {
   "cell_type": "code",
   "execution_count": null,
   "metadata": {},
   "outputs": [],
   "source": [
    "# Conver data from Object type to float type\n",
    "df['FTSE100_Price'] = df['FTSE100_Price'].replace('[\\$,]', '', regex=True)\n",
    "df['FTSE100_Price'] = pd.to_numeric(df['FTSE100_Price'], errors='coerce')\n",
    "df.dropna(inplace=True)\n"
   ]
  },
  {
   "cell_type": "code",
   "execution_count": null,
   "metadata": {},
   "outputs": [],
   "source": [
    "def plot_and_save(x, y1, y2, y1_label, y2_label, y1_color, y2_color, filename):\n",
    "    fig, ax = plt.subplots(figsize=(10, 6))\n",
    "    ax.plot(x, y1, color=y1_color, label=y1_label)\n",
    "    ax.set_ylabel(y1_label, color=y1_color)\n",
    "    ax.tick_params(axis='y', labelcolor=y1_color)\n",
    "    \n",
    "    ax2 = ax.twinx()\n",
    "    ax2.plot(x, y2, color=y2_color, label=y2_label)\n",
    "    ax2.set_ylabel(y2_label, color=y2_color)\n",
    "    ax2.tick_params(axis='y', labelcolor=y2_color)\n",
    "    ax.grid(True)\n",
    "    \n",
    "    ax.set_xlabel('Date')\n",
    "    \n",
    "    plt.title(f'{y1_label} and {y2_label} Over Time')\n",
    "    fig.tight_layout()\n",
    "    plt.savefig('./fig/Bare Eye Analysis/UK/' + filename)\n",
    "    plt.close(fig)\n",
    "\n",
    "# SP500_Price 和 FEDFUNDS\n",
    "plot_and_save(df.index, df['FTSE100_Price'], df['Bank_Rate'], 'FTSE100 Price', 'BoE Interest Rate', 'b', 'g', 'FTSE100_BoE.png')\n",
    "\n",
    "# SP500_Price 和 US_Inflation\n",
    "plot_and_save(df.index, df['FTSE100_Price'], df['UK_Inflation'], 'FTSE100 Price', 'UK Inflation Rate', 'b', 'r', 'FTSE100_inflation.png')\n",
    "\n",
    "# SP500_Price 和 GDP growth\n",
    "plot_and_save(df.index, df['FTSE100_Price'], df['GDP_growth'], 'FTSE100 Price', 'GDP Growth', 'b', 'c', 'FTSE100_gdp.png')\n",
    "\n",
    "# SP500_Price 和 CCI Rate\n",
    "plot_and_save(df.index, df['FTSE100_Price'], df['CCI_Rate'], 'FTSE100 Price', 'CCI Rate', 'b', 'm', 'FTSE100_cci.png')\n"
   ]
  },
  {
   "cell_type": "code",
   "execution_count": null,
   "metadata": {},
   "outputs": [],
   "source": [
    "from sklearn.preprocessing import MinMaxScaler\n",
    "\n",
    "# Nomarlise the data\n",
    "scaler = MinMaxScaler()\n",
    "df['Bank_Rate_adj'] = scaler.fit_transform(df[['Bank_Rate']])\n",
    "df['FTSE100_Price_adj'] = scaler.fit_transform(df[['FTSE100_Price']])\n",
    "df['UK_Inflation_adj'] = scaler.fit_transform(df[['UK_Inflation']])\n",
    "df['GDP_growth_adj'] = scaler.fit_transform(df[['GDP_growth']])\n",
    "df['CCI_Rate_adj'] = scaler.fit_transform(df[['CCI_Rate']])"
   ]
  },
  {
   "cell_type": "markdown",
   "metadata": {},
   "source": [
    "### Regression Analysis"
   ]
  },
  {
   "cell_type": "markdown",
   "metadata": {},
   "source": [
    "#### Lagging Effect"
   ]
  },
  {
   "cell_type": "code",
   "execution_count": null,
   "metadata": {},
   "outputs": [],
   "source": [
    "# Creating lagged variables\n",
    "df['Bank_Rate_lag3'] = df['Bank_Rate_adj'].shift(3)  # 3-month lag\n",
    "df['Bank_Rate_lag6'] = df['Bank_Rate_adj'].shift(6)  # 6-months lag\n",
    "df['Bank_Rate_lag12'] = df['Bank_Rate_adj'].shift(12)  # 12-months lag\n",
    "\n",
    "df['UK_Inflation_lag-1'] = df['UK_Inflation_adj'].shift(-1)  # -1-month lag\n",
    "\n",
    "df['CCI_Rate_lag-2'] = df['CCI_Rate_adj'].shift(-2)  # -2-months lag"
   ]
  },
  {
   "cell_type": "markdown",
   "metadata": {},
   "source": [
    "#### Regression"
   ]
  },
  {
   "cell_type": "code",
   "execution_count": null,
   "metadata": {},
   "outputs": [],
   "source": [
    "X = df[['Bank_Rate_adj', 'UK_Inflation_adj', 'GDP_growth_adj', 'CCI_Rate_adj']]\n",
    "X = sm.add_constant(X)  # Adds a constant term to the predictor\n",
    "y = df['FTSE100_Price_adj']\n",
    "\n",
    "X.dropna(inplace=True)\n",
    "y = y.loc[X.index]\n",
    "\n",
    "model = sm.OLS(y, X).fit()\n",
    "print(model.summary())\n",
    "\n",
    "# Plot partial regression plots\n",
    "fig = plt.figure(figsize=(12, 8))\n",
    "fig = sm.graphics.plot_partregress_grid(model, fig=fig)\n",
    "\n",
    "with open('./Results/regression_summary_' + 'BoE Rate, UK_Inflation, GDP growth, CCI Rate' + '.txt', 'w') as file:\n",
    "    file.write(model.summary().as_text())"
   ]
  },
  {
   "cell_type": "code",
   "execution_count": null,
   "metadata": {},
   "outputs": [],
   "source": [
    "for x in ['Bank_Rate_lag3', 'Bank_Rate_lag6', 'Bank_Rate_lag12']:\n",
    "    X = df[[x, 'UK_Inflation_lag-1', 'CCI_Rate_lag-2']]\n",
    "    X = sm.add_constant(X)  # Adds a constant term to the predictor\n",
    "    y = df['FTSE100_Price_adj']\n",
    "    \n",
    "    X.dropna(inplace=True)\n",
    "    y = y.loc[X.index]\n",
    "    \n",
    "    model = sm.OLS(y, X).fit()\n",
    "    \n",
    "    # Plot partial regression plots\n",
    "    fig = plt.figure(figsize=(12, 8))\n",
    "    fig = sm.graphics.plot_partregress_grid(model, fig=fig)\n",
    "    \n",
    "    \n",
    "    fig.savefig('./fig/lags/UK/graph_' + x + '.png')\n",
    "    \n",
    "    with open('./Results/lags/UK/regression_summary_' + x + '.txt', 'w') as file:\n",
    "        file.write(model.summary().as_text())"
   ]
  }
 ],
 "metadata": {
  "kernelspec": {
   "display_name": "amls",
   "language": "python",
   "name": "python3"
  },
  "language_info": {
   "codemirror_mode": {
    "name": "ipython",
    "version": 3
   },
   "file_extension": ".py",
   "mimetype": "text/x-python",
   "name": "python",
   "nbconvert_exporter": "python",
   "pygments_lexer": "ipython3",
   "version": "3.8.19"
  }
 },
 "nbformat": 4,
 "nbformat_minor": 2
}
